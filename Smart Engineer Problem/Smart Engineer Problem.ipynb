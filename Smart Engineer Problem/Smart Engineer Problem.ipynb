{
 "cells": [
  {
   "cell_type": "code",
   "execution_count": 141,
   "metadata": {},
   "outputs": [],
   "source": [
    "import numpy as np\n",
    "from matplotlib import pyplot"
   ]
  },
  {
   "cell_type": "code",
   "execution_count": 142,
   "metadata": {},
   "outputs": [],
   "source": [
    "# Load data\n",
    "# The first four columns contains the ambient variables and the fifth column\n",
    "# contains electricity generated.\n",
    "data = np.genfromtxt('train_data.csv' ,  delimiter = ',' , skip_header = 1 )\n",
    "X, y = data[:, 0:4], data[:, 4]\n",
    "m = y.size  # number of training examples"
   ]
  },
  {
   "cell_type": "code",
   "execution_count": 143,
   "metadata": {},
   "outputs": [],
   "source": [
    "def  featureNormalize(X):\n",
    "    \"\"\"\"\n",
    "    Normalizes the features in X. returns a normalized version of X where\n",
    "    the mean value of each feature is 0 and the standard deviation\n",
    "    is 1.\n",
    "    \n",
    "    Parameters\n",
    "    ----------\n",
    "    X : array_like\n",
    "        The dataset of shape (m x n).\n",
    "    \n",
    "    Returns\n",
    "    -------\n",
    "    X_norm : array_like\n",
    "        The normalized dataset of shape (m x n).\n",
    "    \"\"\"\n",
    "    X_norm = X.copy()\n",
    "    mu = np.zeros(X.shape[1])\n",
    "    sigma = np.zeros(X.shape[1])\n",
    "    \n",
    "    n = X.shape[1]\n",
    "    for i in range (n):\n",
    "        mu[i] = X[: , i].mean()\n",
    "        sigma[i] = X[: , i].std()\n",
    "        X_norm[:,  i] = (X_norm[:, i] - mu[i]) / sigma[i]\n",
    "        \n",
    "    return X_norm, mu, sigma"
   ]
  },
  {
   "cell_type": "code",
   "execution_count": 144,
   "metadata": {},
   "outputs": [
    {
     "name": "stdout",
     "output_type": "stream",
     "text": [
      "Computed mean: [256.01082  325.21758   92.111935  44.16964 ]\n",
      "Computed standard deviation: [95.1644883  76.26899879  0.53900539  8.77093835]\n"
     ]
    }
   ],
   "source": [
    "# call featureNormalize on the loaded data\n",
    "X_norm, mu, sigma = featureNormalize(X)\n",
    "\n",
    "print('Computed mean:', mu)\n",
    "print('Computed standard deviation:', sigma)"
   ]
  },
  {
   "cell_type": "code",
   "execution_count": 145,
   "metadata": {},
   "outputs": [],
   "source": [
    "# Add intercept term to X\n",
    "X_norm = np.concatenate([np.ones((m, 1)), X_norm], axis=1)\n"
   ]
  },
  {
   "cell_type": "code",
   "execution_count": 146,
   "metadata": {},
   "outputs": [],
   "source": [
    "def computeCost(theta, X, y):\n",
    "    \"\"\"\n",
    "    Compute cost for linear regression. Computes the cost of using theta as the\n",
    "    parameter for linear regression to fit the data points in X and y.\n",
    "    \n",
    "    Parameters\n",
    "    ----------\n",
    "    X : array_like\n",
    "        The input dataset of shape (m x n+1), where m is the number of examples,\n",
    "        and n is the number of features. We assume a vector of one's already \n",
    "        appended to the features so we have n+1 columns.\n",
    "    \n",
    "    y : array_like\n",
    "        The values of the function at each data point. This is a vector of\n",
    "        shape (m, ).\n",
    "    \n",
    "    theta : array_like\n",
    "        The parameters for the regression function. This is a vector of \n",
    "        shape (n+1, ).\n",
    "    \n",
    "    Returns\n",
    "    -------\n",
    "    J : float\n",
    "        The value of the regression cost function.\n",
    "    \"\"\"\n",
    "    m = y.shape[0]\n",
    "    J = 0\n",
    "    \n",
    "    #h = np.dot(X , theta) # hypothesis function \n",
    "    #J = (1/ (2 * m)) * np.sum(np.square(h - y))\n",
    "    \n",
    "    J = (1/ (2*m))* ((np.dot(X, theta) - y).T).dot(((np.dot(X, theta) - y)))\n",
    "    \n",
    "    return J "
   ]
  },
  {
   "cell_type": "code",
   "execution_count": 147,
   "metadata": {
    "scrolled": true
   },
   "outputs": [
    {
     "name": "stdout",
     "output_type": "stream",
     "text": [
      "With initial_theta (zeros) \n",
      "Cost computed = 1653056.86\n"
     ]
    }
   ],
   "source": [
    "initial_theta = np.zeros(X_norm.shape[1])\n",
    "J = computeCost(initial_theta, X_norm , y)\n",
    "print('With initial_theta (zeros) \\nCost computed = %.2f' % J)\n"
   ]
  },
  {
   "cell_type": "code",
   "execution_count": 148,
   "metadata": {},
   "outputs": [],
   "source": [
    "def gradientDescent(X, y, theta, alpha, num_iters):\n",
    "    \"\"\"\n",
    "    Performs gradient descent to learn `theta`. Updates theta by taking `num_iters`\n",
    "    gradient steps with learning rate `alpha`.\n",
    "    \n",
    "    Parameters\n",
    "    ----------\n",
    "    X : array_like\n",
    "        The input dataset of shape (m x n+1).\n",
    "    \n",
    "    y : array_like\n",
    "        Value at given features. A vector of shape (m, ).\n",
    "    \n",
    "    theta : array_like\n",
    "        Initial values for the linear regression parameters. \n",
    "        A vector of shape (n+1, ).\n",
    "    \n",
    "    alpha : float\n",
    "        The learning rate.\n",
    "    \n",
    "    num_iters : int\n",
    "        The number of iterations for gradient descent. \n",
    "    \n",
    "    Returns\n",
    "    -------\n",
    "    theta : array_like\n",
    "        The learned linear regression parameters. A vector of shape (n+1, ).\n",
    "    \n",
    "    J_history : list\n",
    "        A python list for the values of the cost function after each iteration.\n",
    "    \"\"\"\n",
    "    J_history = []\n",
    "    m = y.size\n",
    "    \n",
    "    # make a copy of theta, to avoid changing the original array, since numpy arrays\n",
    "    # are passed by reference to functions\n",
    "    theta = theta.copy()\n",
    "    \n",
    "    for i in range (num_iters):\n",
    "        theta = theta - (alpha/m) * (np.dot(X, theta) - y).dot(X)\n",
    " \n",
    "        # save the cost J in every iteration\n",
    "        J_history.append(computeCost(X, y, theta))\n",
    "        \n",
    "    return theta, J_history"
   ]
  },
  {
   "cell_type": "code",
   "execution_count": 165,
   "metadata": {},
   "outputs": [
    {
     "name": "stdout",
     "output_type": "stream",
     "text": [
      "Theta found by gradient descent: 1817.0046, -46.2844, -20.1929, 3.1833, -5.6202\n",
      "[1324191273879.4082, 1324072143970.7136, 1323964969913.115, 1323868545925.9377, 1323781789233.2715]\n"
     ]
    }
   ],
   "source": [
    "theta = np.zeros(X_norm.shape[1])\n",
    "\n",
    "# some gradient descent settings\n",
    "iterations = 100\n",
    "alpha = 0.1\n",
    "\n",
    "theta, J_history = gradientDescent(X_norm ,y, theta, alpha, iterations)\n",
    "print('Theta found by gradient descent: {:.4f}, {:.4f}, {:.4f}, {:.4f}, {:.4f}'.format(*theta))\n",
    "print (J_history[:5])"
   ]
  },
  {
   "cell_type": "code",
   "execution_count": 150,
   "metadata": {},
   "outputs": [
    {
     "data": {
      "text/plain": [
       "Text(0, 0.5, 'Cost J')"
      ]
     },
     "execution_count": 150,
     "metadata": {},
     "output_type": "execute_result"
    },
    {
     "data": {
      "image/png": "[encoded data removed]",
      "text/plain": [
       "<Figure size 432x288 with 1 Axes>"
      ]
     },
     "metadata": {
      "needs_background": "light"
     },
     "output_type": "display_data"
    }
   ],
   "source": [
    "alpha = [0.7 ,0.6 , 0.5, 0.3, 0.1]\n",
    "#alpha = [0.7] \n",
    "num_iters = 100\n",
    "\n",
    "# init theta and run gradient descent\n",
    "\n",
    "for i in range (len(alpha)):\n",
    "    theta = np.zeros(X_norm.shape[1])\n",
    "    theta, J_history = gradientDescent(X_norm, y, theta, alpha[i], num_iters)\n",
    "\n",
    "    # Plot the convergence graph\n",
    "    pyplot.plot(np.arange(len(J_history)), J_history, lw=2)\n",
    "    pyplot.legend(alpha)\n",
    "    \n",
    "pyplot.xlabel('Number of iterations')\n",
    "pyplot.ylabel('Cost J')"
   ]
  },
  {
   "cell_type": "code",
   "execution_count": 167,
   "metadata": {},
   "outputs": [
    {
     "name": "stdout",
     "output_type": "stream",
     "text": [
      "[1773.33568126 1873.55524941 1760.31651275 1868.12303621 1821.15207938]\n"
     ]
    },
    {
     "data": {
      "text/plain": [
       "Text(0, 0.5, 'E')"
      ]
     },
     "execution_count": 167,
     "metadata": {},
     "output_type": "execute_result"
    },
    {
     "data": {
      "image/png": "[encoded data removed]",
      "text/plain": [
       "<Figure size 432x288 with 1 Axes>"
      ]
     },
     "metadata": {
      "needs_background": "light"
     },
     "output_type": "display_data"
    }
   ],
   "source": [
    "E_test = np.dot(X_norm , theta)\n",
    "print(E_test[:5])\n",
    "\n",
    "pyplot.plot(E_test, y,'ro', ms = 2, mec = 'k')\n",
    "pyplot.xlabel('E_test')\n",
    "pyplot.ylabel('E')"
   ]
  },
  {
   "cell_type": "code",
   "execution_count": 168,
   "metadata": {},
   "outputs": [
    {
     "name": "stdout",
     "output_type": "stream",
     "text": [
      "0.008261650341766952 %\n"
     ]
    }
   ],
   "source": [
    "Avg_err = ((E_test - y)/ y) * 100\n",
    "Avg_err = Avg_err.mean()\n",
    "print(Avg_err, '%')"
   ]
  },
  {
   "cell_type": "code",
   "execution_count": 170,
   "metadata": {},
   "outputs": [
    {
     "name": "stdout",
     "output_type": "stream",
     "text": [
      "[1795.19 1823.18 1888.82 1897.72 1802.04]\n"
     ]
    }
   ],
   "source": [
    "New_data = np.genfromtxt('test_data.csv' ,  delimiter = ',' , skip_header = 1 )\n",
    "New_data = (New_data - mu) / sigma\n",
    "New_data = np.concatenate([np.ones((New_data.shape[0], 1)), New_data], axis=1)\n",
    "E = np.dot(New_data , theta)\n",
    "E = np.round(E, 2)\n",
    "print(E[:5])\n",
    "np.savetxt('Output.csv', E)"
   ]
  },
  {
   "cell_type": "code",
   "execution_count": null,
   "metadata": {},
   "outputs": [],
   "source": []
  }
 ],
 "metadata": {
  "kernelspec": {
   "display_name": "Python 3",
   "language": "python",
   "name": "python3"
  },
  "language_info": {
   "codemirror_mode": {
    "name": "ipython",
    "version": 3
   },
   "file_extension": ".py",
   "mimetype": "text/x-python",
   "name": "python",
   "nbconvert_exporter": "python",
   "pygments_lexer": "ipython3",
   "version": "3.7.4"
  }
 },
 "nbformat": 4,
 "nbformat_minor": 2
}
